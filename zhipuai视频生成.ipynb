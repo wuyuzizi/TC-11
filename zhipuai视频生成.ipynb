{
 "cells": [
  {
   "cell_type": "code",
   "execution_count": 27,
   "id": "8ac687bb-850d-4045-94ac-daaacf52b6c6",
   "metadata": {},
   "outputs": [
    {
     "name": "stdout",
     "output_type": "stream",
     "text": [
      "VideoObject(id='278517320709066579216580731977468824', model='cogvideox', video_result=None, task_status='PROCESSING', request_id='9216580731977468823')\n"
     ]
    }
   ],
   "source": [
    "from zhipuai import ZhipuAI\n",
    "client = ZhipuAI(api_key=\"a021c8d13d3e8a9a64ac6ed6d64faf62.bBlfIe2JVaM5ZJeo\")\n",
    "\n",
    "response = client.videos.generations(\n",
    "    model=\"cogvideox\",\n",
    "    prompt=\"cute dog\"\n",
    ")\n",
    "print(response)"
   ]
  },
  {
   "cell_type": "code",
   "execution_count": 29,
   "id": "8f0d3e1a-f44f-448d-a282-42b18acd08f4",
   "metadata": {},
   "outputs": [
    {
     "name": "stdout",
     "output_type": "stream",
     "text": [
      "VideoObject(id=None, model='cogvideox', video_result=[VideoResult(url='https://aigc-files.bigmodel.cn/api/cogvideo/ef219996-a7a8-11ef-a354-628f45da38f5_0.mp4', cover_image_url='https://aigc-files.bigmodel.cn/api/cogvideo/ef219996-a7a8-11ef-a354-628f45da38f5_cover_0.jpeg')], task_status='SUCCESS', request_id='9216580731977468823')\n"
     ]
    }
   ],
   "source": [
    "from zhipuai import ZhipuAI\n",
    "client = ZhipuAI(api_key=\"a021c8d13d3e8a9a64ac6ed6d64faf62.bBlfIe2JVaM5ZJeo\")\n",
    "\n",
    "response = client.videos.retrieve_videos_result(\n",
    "    id=\"278517320709066579216580731977468824\"\n",
    ")\n",
    "print(response)"
   ]
  },
  {
   "cell_type": "code",
   "execution_count": 39,
   "id": "787d9436-4ca0-4882-9692-ef5714c04fe1",
   "metadata": {},
   "outputs": [
    {
     "name": "stdout",
     "output_type": "stream",
     "text": [
      "VideoObject(id='278517320709066579216576677526991983', model='cogvideox', video_result=None, task_status='PROCESSING', request_id='9216576677526991982')\n"
     ]
    }
   ],
   "source": [
    "from zhipuai import ZhipuAI\n",
    "client = ZhipuAI(api_key=\"a021c8d13d3e8a9a64ac6ed6d64faf62.bBlfIe2JVaM5ZJeo\")\n",
    "response = client.videos.generations(\n",
    "    model=\"cogvideox\",\n",
    "    image_url = 'https://pic.rmb.bdstatic.com/bjh/down/f4addabc20a1e37d15a71c43b7453027.jpeg',\n",
    "    prompt=\"两只金毛（主体)在河边（环境描述），彼此嬉笑打闹（动作）\"\n",
    ")\n",
    "print(response)"
   ]
  },
  {
   "cell_type": "code",
   "execution_count": 43,
   "id": "75c34b89-3793-466a-b452-7e939310d08a",
   "metadata": {},
   "outputs": [
    {
     "name": "stdout",
     "output_type": "stream",
     "text": [
      "VideoObject(id=None, model='cogvideox', video_result=[VideoResult(url='https://aigc-files.bigmodel.cn/api/cogvideo/43379b7c-a7b1-11ef-96bb-e63bd27113c0_0.mp4', cover_image_url='https://aigc-files.bigmodel.cn/api/cogvideo/43379b7c-a7b1-11ef-96bb-e63bd27113c0_cover_0.jpeg')], task_status='SUCCESS', request_id='9216576677526991982')\n"
     ]
    }
   ],
   "source": [
    "from zhipuai import ZhipuAI\n",
    "client = ZhipuAI(api_key=\"a021c8d13d3e8a9a64ac6ed6d64faf62.bBlfIe2JVaM5ZJeo\")\n",
    "\n",
    "response = client.videos.retrieve_videos_result(\n",
    "    id=\"278517320709066579216576677526991983\"\n",
    ")\n",
    "print(response)"
   ]
  },
  {
   "cell_type": "code",
   "execution_count": null,
   "id": "3e17d4d4-fda7-4419-afd8-ec35160a2a9e",
   "metadata": {},
   "outputs": [],
   "source": []
  }
 ],
 "metadata": {
  "kernelspec": {
   "display_name": "Python 3 (ipykernel)",
   "language": "python",
   "name": "python3"
  },
  "language_info": {
   "codemirror_mode": {
    "name": "ipython",
    "version": 3
   },
   "file_extension": ".py",
   "mimetype": "text/x-python",
   "name": "python",
   "nbconvert_exporter": "python",
   "pygments_lexer": "ipython3",
   "version": "3.9.13"
  }
 },
 "nbformat": 4,
 "nbformat_minor": 5
}
