{
 "cells": [
  {
   "cell_type": "code",
   "execution_count": 9,
   "id": "bfaf66dd-3cc6-43b2-af8a-145f90ef2d67",
   "metadata": {},
   "outputs": [
    {
     "name": "stdout",
     "output_type": "stream",
     "text": [
      "通常来说,视频理解的响应时间较长，需要等待数十秒......\n",
      "CompletionMessage(content='陈都灵是一位非常漂亮的女演员和模特。她的外表清新自然,五官精致,气质优雅,深受观众喜爱。不过美丽是一种主观的感受,不同的人可能会有不同的看法。但就普遍而言,陈都灵的美貌是得到广泛认可的。', role='assistant', tool_calls=None)\n"
     ]
    }
   ],
   "source": [
    "video_path = \"cdl.mp4\"\n",
    "with open(video_path, 'rb') as video_file:\n",
    "    video_base = base64.b64encode(video_file.read()).decode('utf-8')\n",
    "    \n",
    "print(\"通常来说,视频理解的响应时间较长，需要等待数十秒......\")\n",
    "\n",
    "response = client.chat.completions.create(\n",
    "    model=\"glm-4v-plus\",\n",
    "    temperature=0.0,\n",
    "    top_p=0,\n",
    "    \n",
    "    messages=[{\n",
    "        \"role\":\"user\",\n",
    "        \"content\":[{\n",
    "            \"type\":\"video_url\",\n",
    "            \"video_url\":{\"url\":video_base}\n",
    "        },{\n",
    "                \"type\":\"text\",\n",
    "                \"text\":\"陈都灵美不美\"\n",
    "            }]\n",
    "        }]\n",
    ")\n",
    "print(response.choices[0].message)"
   ]
  },
  {
   "cell_type": "code",
   "execution_count": 7,
   "id": "d63033ed-4cfd-4c26-9a90-d46df427fd8e",
   "metadata": {},
   "outputs": [],
   "source": [
    "# pip install zhipuai\n",
    "import os\n",
    "from zhipuai import ZhipuAI\n",
    "import base64\n",
    "\n",
    "os.environ[\"ZHIPUAI_API_KEY\"] = \"a021c8d13d3e8a9a64ac6ed6d64faf62.bBlfIe2JVaM5ZJeo\"\n",
    "\n",
    "client = ZhipuAI()"
   ]
  },
  {
   "cell_type": "code",
   "execution_count": null,
   "id": "8a1119e3-2b67-4e50-bc76-adb3351cb8fd",
   "metadata": {},
   "outputs": [],
   "source": []
  }
 ],
 "metadata": {
  "kernelspec": {
   "display_name": "Python 3 (ipykernel)",
   "language": "python",
   "name": "python3"
  },
  "language_info": {
   "codemirror_mode": {
    "name": "ipython",
    "version": 3
   },
   "file_extension": ".py",
   "mimetype": "text/x-python",
   "name": "python",
   "nbconvert_exporter": "python",
   "pygments_lexer": "ipython3",
   "version": "3.9.13"
  }
 },
 "nbformat": 4,
 "nbformat_minor": 5
}
