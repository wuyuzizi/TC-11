{
 "cells": [
  {
   "cell_type": "code",
   "execution_count": 1,
   "id": "58b74eb9-ce4d-4c5b-bf31-a2db00035300",
   "metadata": {},
   "outputs": [],
   "source": [
    "from sklearn.datasets import load_breast_cancer\n",
    "from sklearn.model_selection import train_test_split\n",
    "from sklearn.linear_model import LogisticRegression\n",
    "from sklearn.metrics import classification_report,accuracy_score"
   ]
  },
  {
   "cell_type": "code",
   "execution_count": 11,
   "id": "62e82e15-0d84-4a0e-924e-c8679c335e41",
   "metadata": {},
   "outputs": [
    {
     "name": "stdout",
     "output_type": "stream",
     "text": [
      "(569, 30)\n",
      "<class 'pandas.core.frame.DataFrame'>\n",
      "RangeIndex: 569 entries, 0 to 568\n",
      "Data columns (total 30 columns):\n",
      " #   Column  Non-Null Count  Dtype  \n",
      "---  ------  --------------  -----  \n",
      " 0   0       569 non-null    float64\n",
      " 1   1       569 non-null    float64\n",
      " 2   2       569 non-null    float64\n",
      " 3   3       569 non-null    float64\n",
      " 4   4       569 non-null    float64\n",
      " 5   5       569 non-null    float64\n",
      " 6   6       569 non-null    float64\n",
      " 7   7       569 non-null    float64\n",
      " 8   8       569 non-null    float64\n",
      " 9   9       569 non-null    float64\n",
      " 10  10      569 non-null    float64\n",
      " 11  11      569 non-null    float64\n",
      " 12  12      569 non-null    float64\n",
      " 13  13      569 non-null    float64\n",
      " 14  14      569 non-null    float64\n",
      " 15  15      569 non-null    float64\n",
      " 16  16      569 non-null    float64\n",
      " 17  17      569 non-null    float64\n",
      " 18  18      569 non-null    float64\n",
      " 19  19      569 non-null    float64\n",
      " 20  20      569 non-null    float64\n",
      " 21  21      569 non-null    float64\n",
      " 22  22      569 non-null    float64\n",
      " 23  23      569 non-null    float64\n",
      " 24  24      569 non-null    float64\n",
      " 25  25      569 non-null    float64\n",
      " 26  26      569 non-null    float64\n",
      " 27  27      569 non-null    float64\n",
      " 28  28      569 non-null    float64\n",
      " 29  29      569 non-null    float64\n",
      "dtypes: float64(30)\n",
      "memory usage: 133.5 KB\n",
      "               0           1           2            3           4   \\\n",
      "count  569.000000  569.000000  569.000000   569.000000  569.000000   \n",
      "mean    14.127292   19.289649   91.969033   654.889104    0.096360   \n",
      "std      3.524049    4.301036   24.298981   351.914129    0.014064   \n",
      "min      6.981000    9.710000   43.790000   143.500000    0.052630   \n",
      "25%     11.700000   16.170000   75.170000   420.300000    0.086370   \n",
      "50%     13.370000   18.840000   86.240000   551.100000    0.095870   \n",
      "75%     15.780000   21.800000  104.100000   782.700000    0.105300   \n",
      "max     28.110000   39.280000  188.500000  2501.000000    0.163400   \n",
      "\n",
      "               5           6           7           8           9   ...  \\\n",
      "count  569.000000  569.000000  569.000000  569.000000  569.000000  ...   \n",
      "mean     0.104341    0.088799    0.048919    0.181162    0.062798  ...   \n",
      "std      0.052813    0.079720    0.038803    0.027414    0.007060  ...   \n",
      "min      0.019380    0.000000    0.000000    0.106000    0.049960  ...   \n",
      "25%      0.064920    0.029560    0.020310    0.161900    0.057700  ...   \n",
      "50%      0.092630    0.061540    0.033500    0.179200    0.061540  ...   \n",
      "75%      0.130400    0.130700    0.074000    0.195700    0.066120  ...   \n",
      "max      0.345400    0.426800    0.201200    0.304000    0.097440  ...   \n",
      "\n",
      "               20          21          22           23          24  \\\n",
      "count  569.000000  569.000000  569.000000   569.000000  569.000000   \n",
      "mean    16.269190   25.677223  107.261213   880.583128    0.132369   \n",
      "std      4.833242    6.146258   33.602542   569.356993    0.022832   \n",
      "min      7.930000   12.020000   50.410000   185.200000    0.071170   \n",
      "25%     13.010000   21.080000   84.110000   515.300000    0.116600   \n",
      "50%     14.970000   25.410000   97.660000   686.500000    0.131300   \n",
      "75%     18.790000   29.720000  125.400000  1084.000000    0.146000   \n",
      "max     36.040000   49.540000  251.200000  4254.000000    0.222600   \n",
      "\n",
      "               25          26          27          28          29  \n",
      "count  569.000000  569.000000  569.000000  569.000000  569.000000  \n",
      "mean     0.254265    0.272188    0.114606    0.290076    0.083946  \n",
      "std      0.157336    0.208624    0.065732    0.061867    0.018061  \n",
      "min      0.027290    0.000000    0.000000    0.156500    0.055040  \n",
      "25%      0.147200    0.114500    0.064930    0.250400    0.071460  \n",
      "50%      0.211900    0.226700    0.099930    0.282200    0.080040  \n",
      "75%      0.339100    0.382900    0.161400    0.317900    0.092080  \n",
      "max      1.058000    1.252000    0.291000    0.663800    0.207500  \n",
      "\n",
      "[8 rows x 30 columns]\n"
     ]
    }
   ],
   "source": [
    "X,y = load_breast_cancer(return_X_y=True)\n",
    "#数据集探索\n",
    "import pandas as pd\n",
    "print(X.shape)\n",
    "n = pd.DataFrame(X)\n",
    "#查看数据集基本信息，包括每列的数据类型和缺失值\n",
    "n.info()\n",
    "\n",
    "#查看数据集的描述统计信息\n",
    "print(n.describe())"
   ]
  },
  {
   "cell_type": "code",
   "execution_count": 12,
   "id": "0f96c70f-b5d4-4aa2-b5f3-c3b933fed7d6",
   "metadata": {},
   "outputs": [],
   "source": [
    "#以指定比例将数据集分为训练集和测试集\n",
    "X_train,X_test,y_train,y_test = train_test_split(\n",
    "    X,y,\n",
    "    train_size=0.875,test_size=0.125, random_state=188\n",
    ")"
   ]
  },
  {
   "cell_type": "code",
   "execution_count": 14,
   "id": "b0db4284-89ec-4a30-8e55-9c1dbb04354f",
   "metadata": {},
   "outputs": [
    {
     "data": {
      "text/plain": [
       "LogisticRegression(max_iter=3000, multi_class='ovr')"
      ]
     },
     "execution_count": 14,
     "metadata": {},
     "output_type": "execute_result"
    }
   ],
   "source": [
    "clf = LogisticRegression(\n",
    "    penalty=\"l2\", C=1.0, random_state=None, solver=\"lbfgs\", max_iter=3000,\n",
    "    multi_class='ovr', verbose=0,\n",
    ")\n",
    "\n",
    "clf.fit(X_train, y_train)"
   ]
  },
  {
   "cell_type": "code",
   "execution_count": 15,
   "id": "fb93adce-5d09-405c-a3e4-6914fcc984df",
   "metadata": {},
   "outputs": [],
   "source": [
    "#使用测试数据来预测，返回值预测分类数据\n",
    "y_pred = clf.predict(X_test)"
   ]
  },
  {
   "cell_type": "code",
   "execution_count": 16,
   "id": "66cc0f5c-9f60-4729-adbb-84a74fcc9dcd",
   "metadata": {},
   "outputs": [
    {
     "name": "stdout",
     "output_type": "stream",
     "text": [
      "---report---\n",
      "              precision    recall  f1-score   support\n",
      "\n",
      "           0       0.96      0.96      0.96        27\n",
      "           1       0.98      0.98      0.98        45\n",
      "\n",
      "    accuracy                           0.97        72\n",
      "   macro avg       0.97      0.97      0.97        72\n",
      "weighted avg       0.97      0.97      0.97        72\n",
      "\n",
      "---params---\n",
      "[[ 0.89375618  0.18541194 -0.32771832  0.02726339 -0.16405068 -0.2001862\n",
      "  -0.53648804 -0.28032528 -0.23726602 -0.02704269 -0.07237034  1.17773901\n",
      "   0.08828043 -0.10662124 -0.02414522  0.06497132 -0.04512822 -0.03533396\n",
      "  -0.03278449  0.01586529  0.23930926 -0.46718493 -0.07089652 -0.01678173\n",
      "  -0.33350051 -0.68158883 -1.50182209 -0.57198266 -0.69992284 -0.07791319]] [29.61611297]\n",
      "---accuracy---\n",
      "0.9722222222222222\n"
     ]
    }
   ],
   "source": [
    "#打印主要分类指标的文本报告\n",
    "print('---report---')\n",
    "print(classification_report(y_test,y_pred))\n",
    "\n",
    "#打印模型的参数\n",
    "print('---params---')\n",
    "print(clf.coef_,clf.intercept_)\n",
    "\n",
    "#打印准确率\n",
    "print('---accuracy---')\n",
    "print(accuracy_score(y_test,y_pred))"
   ]
  },
  {
   "cell_type": "code",
   "execution_count": null,
   "id": "b9840b2e-66e0-49d3-a71a-678f778b5f74",
   "metadata": {},
   "outputs": [],
   "source": []
  }
 ],
 "metadata": {
  "kernelspec": {
   "display_name": "Python 3 (ipykernel)",
   "language": "python",
   "name": "python3"
  },
  "language_info": {
   "codemirror_mode": {
    "name": "ipython",
    "version": 3
   },
   "file_extension": ".py",
   "mimetype": "text/x-python",
   "name": "python",
   "nbconvert_exporter": "python",
   "pygments_lexer": "ipython3",
   "version": "3.9.13"
  }
 },
 "nbformat": 4,
 "nbformat_minor": 5
}
